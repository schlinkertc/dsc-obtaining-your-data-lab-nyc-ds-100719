{
 "cells": [
  {
   "cell_type": "markdown",
   "metadata": {},
   "source": [
    "# Obtaining Your Data - Lab"
   ]
  },
  {
   "cell_type": "markdown",
   "metadata": {},
   "source": [
    "## Introduction\n",
    "In this lab you'll practice your munging and transforming skills in order to load in your data to solve a regression problem."
   ]
  },
  {
   "cell_type": "markdown",
   "metadata": {},
   "source": [
    "## Objectives\n",
    "You will be able to:\n",
    "* Perform an ETL process with multiple tables and create a single dataset"
   ]
  },
  {
   "cell_type": "markdown",
   "metadata": {},
   "source": [
    "## Task Description\n",
    "\n",
    "You just got hired by Lego! Your first project is going to be to develop a pricing algorithm to help set a target price for new lego sets that are released to market. To do this, you're first going to need to start mining the company database in order to collect the information you need to develop a model.\n",
    "\n",
    "Start by investigating the database stored in lego.db and joining the tables into a unified dataset!\n",
    "\n",
    "> **Hint:** use this SQL query to preview the tables in an unknown database:\n",
    "```sql\n",
    "SELECT name FROM sqlite_master\n",
    "            WHERE type='table'\n",
    "            ORDER BY name;\n",
    "```"
   ]
  },
  {
   "cell_type": "code",
   "execution_count": 5,
   "metadata": {},
   "outputs": [],
   "source": [
    "# Your code here\n",
    "import sqlite3 as sql\n",
    "import pandas as pd"
   ]
  },
  {
   "cell_type": "code",
   "execution_count": 6,
   "metadata": {},
   "outputs": [],
   "source": [
    "cnx = sql.connect('lego.db')"
   ]
  },
  {
   "cell_type": "code",
   "execution_count": 7,
   "metadata": {},
   "outputs": [
    {
     "data": {
      "text/plain": [
       "<sqlite3.Cursor at 0x1179ff110>"
      ]
     },
     "execution_count": 7,
     "metadata": {},
     "output_type": "execute_result"
    }
   ],
   "source": [
    "cursor = cnx.cursor()\n",
    "cursor"
   ]
  },
  {
   "cell_type": "code",
   "execution_count": 15,
   "metadata": {},
   "outputs": [],
   "source": [
    "tables = cursor.execute(\"\"\"SELECT name FROM sqlite_master\n",
    "            WHERE type='table'\n",
    "            ORDER BY name;\"\"\").fetchall()"
   ]
  },
  {
   "cell_type": "code",
   "execution_count": 16,
   "metadata": {},
   "outputs": [
    {
     "data": {
      "text/plain": [
       "['product_details', 'product_info', 'product_pricing', 'product_reviews']"
      ]
     },
     "execution_count": 16,
     "metadata": {},
     "output_type": "execute_result"
    }
   ],
   "source": [
    "tables = [item for sublist in tables for item in sublist]\n",
    "tables"
   ]
  },
  {
   "cell_type": "code",
   "execution_count": 44,
   "metadata": {},
   "outputs": [
    {
     "data": {
      "text/plain": [
       "['product_details', 'product_info', 'product_pricing', 'product_reviews']"
      ]
     },
     "execution_count": 44,
     "metadata": {},
     "output_type": "execute_result"
    }
   ],
   "source": [
    "tables"
   ]
  },
  {
   "cell_type": "code",
   "execution_count": 45,
   "metadata": {},
   "outputs": [],
   "source": [
    "dfs = []\n",
    "for x in tables:\n",
    "    df = pd.DataFrame(cursor.execute(\"\"\"select * from {}\"\"\".format(x)).fetchall())\n",
    "    df.columns = [x[0] for x in cursor.description]\n",
    "    dfs.append(df)"
   ]
  },
  {
   "cell_type": "code",
   "execution_count": 51,
   "metadata": {},
   "outputs": [
    {
     "data": {
      "text/html": [
       "<div>\n",
       "<style scoped>\n",
       "    .dataframe tbody tr th:only-of-type {\n",
       "        vertical-align: middle;\n",
       "    }\n",
       "\n",
       "    .dataframe tbody tr th {\n",
       "        vertical-align: top;\n",
       "    }\n",
       "\n",
       "    .dataframe thead th {\n",
       "        text-align: right;\n",
       "    }\n",
       "</style>\n",
       "<table border=\"1\" class=\"dataframe\">\n",
       "  <thead>\n",
       "    <tr style=\"text-align: right;\">\n",
       "      <th></th>\n",
       "      <th>prod_id</th>\n",
       "      <th>ages</th>\n",
       "      <th>piece_count</th>\n",
       "      <th>set_name</th>\n",
       "    </tr>\n",
       "  </thead>\n",
       "  <tbody>\n",
       "    <tr>\n",
       "      <td>0</td>\n",
       "      <td>630</td>\n",
       "      <td>4+</td>\n",
       "      <td>1</td>\n",
       "      <td>Brick Separator</td>\n",
       "    </tr>\n",
       "    <tr>\n",
       "      <td>1</td>\n",
       "      <td>2304</td>\n",
       "      <td>1½-5</td>\n",
       "      <td>1</td>\n",
       "      <td>LEGO® DUPLO® Green Baseplate</td>\n",
       "    </tr>\n",
       "    <tr>\n",
       "      <td>2</td>\n",
       "      <td>7280</td>\n",
       "      <td>5-12</td>\n",
       "      <td>2</td>\n",
       "      <td>Straight &amp; Crossroad Plates</td>\n",
       "    </tr>\n",
       "    <tr>\n",
       "      <td>3</td>\n",
       "      <td>7281</td>\n",
       "      <td>5-12</td>\n",
       "      <td>2</td>\n",
       "      <td>T-Junction &amp; Curved Road Plates</td>\n",
       "    </tr>\n",
       "    <tr>\n",
       "      <td>4</td>\n",
       "      <td>7499</td>\n",
       "      <td>5-12</td>\n",
       "      <td>24</td>\n",
       "      <td>Flexible and Straight Tracks</td>\n",
       "    </tr>\n",
       "    <tr>\n",
       "      <td>...</td>\n",
       "      <td>...</td>\n",
       "      <td>...</td>\n",
       "      <td>...</td>\n",
       "      <td>...</td>\n",
       "    </tr>\n",
       "    <tr>\n",
       "      <td>739</td>\n",
       "      <td>853638</td>\n",
       "      <td>7+</td>\n",
       "      <td>61</td>\n",
       "      <td>THE LEGO® BATMAN MOVIE Batman™ Minifigure Coll...</td>\n",
       "    </tr>\n",
       "    <tr>\n",
       "      <td>740</td>\n",
       "      <td>2000409</td>\n",
       "      <td>6+</td>\n",
       "      <td>4900</td>\n",
       "      <td>Window Exploration Bag</td>\n",
       "    </tr>\n",
       "    <tr>\n",
       "      <td>741</td>\n",
       "      <td>2000414</td>\n",
       "      <td>6+</td>\n",
       "      <td>219</td>\n",
       "      <td>Starter Kit</td>\n",
       "    </tr>\n",
       "    <tr>\n",
       "      <td>742</td>\n",
       "      <td>2000430</td>\n",
       "      <td>6+</td>\n",
       "      <td>2631</td>\n",
       "      <td>Identity and Landscape Kit</td>\n",
       "    </tr>\n",
       "    <tr>\n",
       "      <td>743</td>\n",
       "      <td>2000431</td>\n",
       "      <td>6+</td>\n",
       "      <td>2455</td>\n",
       "      <td>Connections Kit</td>\n",
       "    </tr>\n",
       "  </tbody>\n",
       "</table>\n",
       "<p>744 rows × 4 columns</p>\n",
       "</div>"
      ],
      "text/plain": [
       "     prod_id  ages  piece_count  \\\n",
       "0        630    4+            1   \n",
       "1       2304  1½-5            1   \n",
       "2       7280  5-12            2   \n",
       "3       7281  5-12            2   \n",
       "4       7499  5-12           24   \n",
       "..       ...   ...          ...   \n",
       "739   853638    7+           61   \n",
       "740  2000409    6+         4900   \n",
       "741  2000414    6+          219   \n",
       "742  2000430    6+         2631   \n",
       "743  2000431    6+         2455   \n",
       "\n",
       "                                              set_name  \n",
       "0                                      Brick Separator  \n",
       "1                         LEGO® DUPLO® Green Baseplate  \n",
       "2                          Straight & Crossroad Plates  \n",
       "3                      T-Junction & Curved Road Plates  \n",
       "4                         Flexible and Straight Tracks  \n",
       "..                                                 ...  \n",
       "739  THE LEGO® BATMAN MOVIE Batman™ Minifigure Coll...  \n",
       "740                             Window Exploration Bag  \n",
       "741                                        Starter Kit  \n",
       "742                         Identity and Landscape Kit  \n",
       "743                                    Connections Kit  \n",
       "\n",
       "[744 rows x 4 columns]"
      ]
     },
     "execution_count": 51,
     "metadata": {},
     "output_type": "execute_result"
    }
   ],
   "source": [
    "[x.head()for x in dfs]\n",
    "dfs[1]"
   ]
  },
  {
   "cell_type": "code",
   "execution_count": 65,
   "metadata": {},
   "outputs": [
    {
     "data": {
      "text/html": [
       "<div>\n",
       "<style scoped>\n",
       "    .dataframe tbody tr th:only-of-type {\n",
       "        vertical-align: middle;\n",
       "    }\n",
       "\n",
       "    .dataframe tbody tr th {\n",
       "        vertical-align: top;\n",
       "    }\n",
       "\n",
       "    .dataframe thead th {\n",
       "        text-align: right;\n",
       "    }\n",
       "</style>\n",
       "<table border=\"1\" class=\"dataframe\">\n",
       "  <thead>\n",
       "    <tr style=\"text-align: right;\">\n",
       "      <th></th>\n",
       "      <th>prod_id</th>\n",
       "      <th>prod_desc</th>\n",
       "      <th>prod_long_desc</th>\n",
       "      <th>theme_name</th>\n",
       "      <th>ages</th>\n",
       "      <th>piece_count</th>\n",
       "      <th>set_name</th>\n",
       "    </tr>\n",
       "  </thead>\n",
       "  <tbody>\n",
       "    <tr>\n",
       "      <td>0</td>\n",
       "      <td>630</td>\n",
       "      <td>blah</td>\n",
       "      <td>blahblah</td>\n",
       "      <td>Classic</td>\n",
       "      <td>4+</td>\n",
       "      <td>1</td>\n",
       "      <td>Brick Separator</td>\n",
       "    </tr>\n",
       "    <tr>\n",
       "      <td>1</td>\n",
       "      <td>2304</td>\n",
       "      <td>blah</td>\n",
       "      <td>blahblah</td>\n",
       "      <td>DUPLO®</td>\n",
       "      <td>1½-5</td>\n",
       "      <td>1</td>\n",
       "      <td>LEGO® DUPLO® Green Baseplate</td>\n",
       "    </tr>\n",
       "    <tr>\n",
       "      <td>2</td>\n",
       "      <td>7280</td>\n",
       "      <td>blah</td>\n",
       "      <td>blahblah</td>\n",
       "      <td>City</td>\n",
       "      <td>5-12</td>\n",
       "      <td>2</td>\n",
       "      <td>Straight &amp; Crossroad Plates</td>\n",
       "    </tr>\n",
       "    <tr>\n",
       "      <td>3</td>\n",
       "      <td>7281</td>\n",
       "      <td>blah</td>\n",
       "      <td>blahblah</td>\n",
       "      <td>City</td>\n",
       "      <td>5-12</td>\n",
       "      <td>2</td>\n",
       "      <td>T-Junction &amp; Curved Road Plates</td>\n",
       "    </tr>\n",
       "    <tr>\n",
       "      <td>4</td>\n",
       "      <td>7499</td>\n",
       "      <td>blah</td>\n",
       "      <td>blahblah</td>\n",
       "      <td>City</td>\n",
       "      <td>5-12</td>\n",
       "      <td>24</td>\n",
       "      <td>Flexible and Straight Tracks</td>\n",
       "    </tr>\n",
       "    <tr>\n",
       "      <td>...</td>\n",
       "      <td>...</td>\n",
       "      <td>...</td>\n",
       "      <td>...</td>\n",
       "      <td>...</td>\n",
       "      <td>...</td>\n",
       "      <td>...</td>\n",
       "      <td>...</td>\n",
       "    </tr>\n",
       "    <tr>\n",
       "      <td>739</td>\n",
       "      <td>853638</td>\n",
       "      <td>blah</td>\n",
       "      <td>blahblah</td>\n",
       "      <td>THE LEGO® BATMAN MOVIE</td>\n",
       "      <td>7+</td>\n",
       "      <td>61</td>\n",
       "      <td>THE LEGO® BATMAN MOVIE Batman™ Minifigure Coll...</td>\n",
       "    </tr>\n",
       "    <tr>\n",
       "      <td>740</td>\n",
       "      <td>2000409</td>\n",
       "      <td>blah</td>\n",
       "      <td>blahblah</td>\n",
       "      <td>SERIOUS PLAY®</td>\n",
       "      <td>6+</td>\n",
       "      <td>4900</td>\n",
       "      <td>Window Exploration Bag</td>\n",
       "    </tr>\n",
       "    <tr>\n",
       "      <td>741</td>\n",
       "      <td>2000414</td>\n",
       "      <td>blah</td>\n",
       "      <td>blahblah</td>\n",
       "      <td>SERIOUS PLAY®</td>\n",
       "      <td>6+</td>\n",
       "      <td>219</td>\n",
       "      <td>Starter Kit</td>\n",
       "    </tr>\n",
       "    <tr>\n",
       "      <td>742</td>\n",
       "      <td>2000430</td>\n",
       "      <td>blah</td>\n",
       "      <td>blahblah</td>\n",
       "      <td>SERIOUS PLAY®</td>\n",
       "      <td>6+</td>\n",
       "      <td>2631</td>\n",
       "      <td>Identity and Landscape Kit</td>\n",
       "    </tr>\n",
       "    <tr>\n",
       "      <td>743</td>\n",
       "      <td>2000431</td>\n",
       "      <td>blah</td>\n",
       "      <td>blahblah</td>\n",
       "      <td>SERIOUS PLAY®</td>\n",
       "      <td>6+</td>\n",
       "      <td>2455</td>\n",
       "      <td>Connections Kit</td>\n",
       "    </tr>\n",
       "  </tbody>\n",
       "</table>\n",
       "<p>744 rows × 7 columns</p>\n",
       "</div>"
      ],
      "text/plain": [
       "     prod_id prod_desc prod_long_desc              theme_name  ages  \\\n",
       "0        630      blah       blahblah                 Classic    4+   \n",
       "1       2304      blah       blahblah                  DUPLO®  1½-5   \n",
       "2       7280      blah       blahblah                    City  5-12   \n",
       "3       7281      blah       blahblah                    City  5-12   \n",
       "4       7499      blah       blahblah                    City  5-12   \n",
       "..       ...       ...            ...                     ...   ...   \n",
       "739   853638      blah       blahblah  THE LEGO® BATMAN MOVIE    7+   \n",
       "740  2000409      blah       blahblah           SERIOUS PLAY®    6+   \n",
       "741  2000414      blah       blahblah           SERIOUS PLAY®    6+   \n",
       "742  2000430      blah       blahblah           SERIOUS PLAY®    6+   \n",
       "743  2000431      blah       blahblah           SERIOUS PLAY®    6+   \n",
       "\n",
       "     piece_count                                           set_name  \n",
       "0              1                                    Brick Separator  \n",
       "1              1                       LEGO® DUPLO® Green Baseplate  \n",
       "2              2                        Straight & Crossroad Plates  \n",
       "3              2                    T-Junction & Curved Road Plates  \n",
       "4             24                       Flexible and Straight Tracks  \n",
       "..           ...                                                ...  \n",
       "739           61  THE LEGO® BATMAN MOVIE Batman™ Minifigure Coll...  \n",
       "740         4900                             Window Exploration Bag  \n",
       "741          219                                        Starter Kit  \n",
       "742         2631                         Identity and Landscape Kit  \n",
       "743         2455                                    Connections Kit  \n",
       "\n",
       "[744 rows x 7 columns]"
      ]
     },
     "execution_count": 65,
     "metadata": {},
     "output_type": "execute_result"
    }
   ],
   "source": [
    "for i in range(df = dfs[0].merge(dfs[1],how='outer',on='prod_id')\n"
   ]
  },
  {
   "cell_type": "markdown",
   "metadata": {},
   "source": [
    "## Summary\n",
    "Nice work! You're working more and more independently through the workflow and ensuring data integrity! In this lab, you successfully executed an ETL process to merge different tables!"
   ]
  },
  {
   "cell_type": "code",
   "execution_count": null,
   "metadata": {},
   "outputs": [],
   "source": []
  }
 ],
 "metadata": {
  "kernelspec": {
   "display_name": "Python 3",
   "language": "python",
   "name": "python3"
  },
  "language_info": {
   "codemirror_mode": {
    "name": "ipython",
    "version": 3
   },
   "file_extension": ".py",
   "mimetype": "text/x-python",
   "name": "python",
   "nbconvert_exporter": "python",
   "pygments_lexer": "ipython3",
   "version": "3.7.3"
  }
 },
 "nbformat": 4,
 "nbformat_minor": 2
}
